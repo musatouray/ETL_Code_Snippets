{
 "cells": [
  {
   "cell_type": "markdown",
   "metadata": {},
   "source": [
    "\n",
    "# TIPS AND TRICKS I USE WHEN PERFORMING ETL WITH POWER QUERY M\n",
    "\n",
    "## These tips are in no particular order. This is just a collection of transformations best practices i encounter in my day to day job as a data analyst/engineer"
   ]
  },
  {
   "cell_type": "markdown",
   "metadata": {},
   "source": [
    "#"
   ]
  },
  {
   "cell_type": "markdown",
   "metadata": {},
   "source": [
    "### HOW TO SELECT SPECIFIC SHEETS OF EXCEL IN POWER QUERY\n",
    "Imagine you have an excel workbook with multiple sheets with different names and you want to combine all the sheets that contains the name \"sales\" in power query. This is the approach I use."
   ]
  },
  {
   "cell_type": "raw",
   "metadata": {},
   "source": [
    "Table.SelectRows(\n",
    "    #\"Imported Excel workbook\", each Text.Contains([Name], \"export\", Comparer.OrdinalIgnoreCase)\n",
    ")"
   ]
  },
  {
   "cell_type": "raw",
   "metadata": {},
   "source": [
    "### HOW TO USE Text.Remove AND Text.Select \n",
    "\n",
    "If ever you want to remove any character in a text or select only numbers or letter from a text then Text.Remove or Text.Select are your go to functions.\n",
    "Use the below combinations to select or remove anything in a given text:\n",
    "\n",
    "(\"\") space is the first charatcer at number 32\n",
    "(/)  slash is the last charatcer before 0 at number 47\n",
    "(0) starts at number 48\n",
    "(9) starts at number 57\n",
    "(:) colon is the first character after 9 at number 58\n",
    "(@) At sign is the last character before Capital A at number 64\n",
    "(A) starts at number 65\n",
    "(Z) starts at number 90\n",
    "([) square bracket is the first character after capital Z at number 91\n",
    "(`) Grave accent is the last character before small a at number 96\n",
    "(a) small a - starts at 97\n",
    "(z) small z - starts at 122\n",
    "({) left curly bracket is the first character after small z at number 123\n",
    "(~) tilde is the last of characters at number 126\n",
    "\n",
    "Text.Remove ([Text], {\" \"..\"@\", \"[\"..\"~\"}) = Keeps Upper Case\n",
    "Text.Remove ([Text], {\" \"..\"`\", \"{\"..\"~\"}) = keeps lower case\n",
    "Text.Remove ([Text], {\" \"..\"/\", \":\"..\"~\"}) = Keeps Numbers only\n",
    "\n",
    "Text.Select([Text], {\"0 \"..\"9\"}) = Select Numbers only\n",
    "Text.Select([Text], {\" a\"..\"z\"}) = Select small letters only\n",
    "\n",
    "\n",
    "For example if you want to remove any characters or letters in a numeric column type, use the following: This will keep only the numbers in the Quantity column.\n",
    "Table.TransformColumns(#\"Filtered rows\", {{\"Quantity\", each Text.Remove(Text.From(_),{\" \"..\"/\", \":\"..\"~\"}), type text}}\n",
    "\n"
   ]
  }
 ],
 "metadata": {
  "kernelspec": {
   "display_name": "base",
   "language": "python",
   "name": "python3"
  },
  "language_info": {
   "codemirror_mode": {
    "name": "ipython",
    "version": 3
   },
   "file_extension": ".py",
   "mimetype": "text/x-python",
   "name": "python",
   "nbconvert_exporter": "python",
   "pygments_lexer": "ipython3",
   "version": "3.9.7"
  }
 },
 "nbformat": 4,
 "nbformat_minor": 2
}
