{
 "cells": [
  {
   "cell_type": "markdown",
   "metadata": {},
   "source": [
    "\n",
    "# TIPS AND TRICKS I USE WHEN PERFORMING ETL WITH POWER QUERY M\n",
    "\n",
    "## These tips are in no particular order. This is just a collection of transformations best practices i encounter in my day to day job as a data analyst/engineer"
   ]
  },
  {
   "cell_type": "markdown",
   "metadata": {},
   "source": [
    "#"
   ]
  },
  {
   "cell_type": "markdown",
   "metadata": {},
   "source": [
    "### HOW TO SELECT SPECIFIC SHEETS OF EXCEL IN POWER QUERY\n",
    "Imagine you have an excel workbook with multiple sheets with different names and you want to combine all the sheets that contains the name \"sales\" in power query. This is the approach I use."
   ]
  },
  {
   "cell_type": "code",
   "execution_count": 2,
   "metadata": {},
   "outputs": [
    {
     "ename": "NameError",
     "evalue": "name 'Table' is not defined",
     "output_type": "error",
     "traceback": [
      "\u001b[1;31m---------------------------------------------------------------------------\u001b[0m",
      "\u001b[1;31mNameError\u001b[0m                                 Traceback (most recent call last)",
      "\u001b[1;32m~\\AppData\\Local\\Temp/ipykernel_14736/2420519042.py\u001b[0m in \u001b[0;36m<module>\u001b[1;34m\u001b[0m\n\u001b[1;32m----> 1\u001b[1;33m Table.SelectRows(\n\u001b[0m\u001b[0;32m      2\u001b[0m     \u001b[1;31m#\"Imported Excel workbook\", each Text.Contains([Name], \"export\", Comparer.OrdinalIgnoreCase)\u001b[0m\u001b[1;33m\u001b[0m\u001b[1;33m\u001b[0m\u001b[0m\n\u001b[0;32m      3\u001b[0m )\n",
      "\u001b[1;31mNameError\u001b[0m: name 'Table' is not defined"
     ]
    }
   ],
   "source": [
    "Table.SelectRows(\n",
    "    #\"Imported Excel workbook\", each Text.Contains([Name], \"export\", Comparer.OrdinalIgnoreCase)\n",
    ")"
   ]
  }
 ],
 "metadata": {
  "kernelspec": {
   "display_name": "base",
   "language": "python",
   "name": "python3"
  },
  "language_info": {
   "codemirror_mode": {
    "name": "ipython",
    "version": 3
   },
   "file_extension": ".py",
   "mimetype": "text/x-python",
   "name": "python",
   "nbconvert_exporter": "python",
   "pygments_lexer": "ipython3",
   "version": "3.9.7"
  }
 },
 "nbformat": 4,
 "nbformat_minor": 2
}
